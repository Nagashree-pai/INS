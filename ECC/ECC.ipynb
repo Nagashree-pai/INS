{
  "nbformat": 4,
  "nbformat_minor": 0,
  "metadata": {
    "colab": {
      "provenance": []
    },
    "kernelspec": {
      "name": "python3",
      "display_name": "Python 3"
    },
    "language_info": {
      "name": "python"
    }
  },
  "cells": [
    {
      "cell_type": "code",
      "execution_count": 3,
      "metadata": {
        "colab": {
          "base_uri": "https://localhost:8080/"
        },
        "id": "B65uJ-0bzfGb",
        "outputId": "cea62baa-d183-46fc-d5bb-7fc4cd06ea01"
      },
      "outputs": [
        {
          "output_type": "stream",
          "name": "stdout",
          "text": [
            "Sender's private key :  0xa104568dbca928e600e3cccc6537c67c3b3259b4c97efa10beecd2f9b6a6bd3d\n",
            "Sender's public key :  0xa5bac71de320126273ccbb2e170da281cbf702fa8d54417c16027d4e5ce7c3fb1\n",
            "\n",
            "\n",
            "Sender's ciphertext public key :  0x4042ab3e28e9205e803eb78841f4512f416e9dc5b60e7f956de95ea5a4ebc6171\n",
            "Sender's encryption key :  0x74596f0c0c79e8854516722b7712e985530361d73acc22ca6c40e0477da469891\n",
            "\n",
            "\n",
            "Receiver's private key :  0x895036a3d4649b57e210f8610f8b2c7c08149bec8b66524b8c87a5445bfa98b2\n",
            "Receiver's public key : 0x7165e39a5a3f6a12c728633bb616b30fa27604666ffdec382e4f948172ea44a71\n",
            "\n",
            "\n",
            "Receiver's ciphertext public key :  0x7f73db5712c557cf347ddf62aff09c2d2e69098e476b9f06601a125a33357a050\n",
            "Receiver encryption key :  0x52937f5815102e0201a6067c3080dfa3350aa66524f61f35984c07840f094ed81\n"
          ]
        }
      ],
      "source": [
        "import tinyec\n",
        "from tinyec import registry\n",
        "import secrets\n",
        "\n",
        "curve = registry.get_curve(\"brainpoolP256r1\")\n",
        "\n",
        "def compress_point(point):\n",
        "  return hex(point.x) + hex(point.y % 2)[2:]\n",
        "\n",
        "def getEnKey(pubKey):\n",
        "  ciPrivateKey = secrets.randbelow(curve.field.n)\n",
        "  ciPublicKey = ciPrivateKey * curve.g\n",
        "  enKey = ciPublicKey * ciPrivateKey\n",
        "  return (enKey, ciPublicKey)\n",
        "\n",
        "senderPrivateKey = secrets.randbelow(curve.field.n)\n",
        "senderPublicKey = senderPrivateKey * curve.g\n",
        "\n",
        "print(\"Sender's private key : \", hex(senderPrivateKey))\n",
        "print(\"Sender's public key : \", compress_point(senderPublicKey))\n",
        "print(\"\\n\")\n",
        "\n",
        "(enKeySender, ciPublicKeySender) = getEnKey(senderPublicKey)\n",
        "print(\"Sender's ciphertext public key : \", compress_point(ciPublicKeySender))\n",
        "print(\"Sender's encryption key : \", compress_point(enKeySender))\n",
        "print(\"\\n\")\n",
        "\n",
        "receiverPrivateKey = secrets.randbelow(curve.field.n)\n",
        "receiverPublicKey = receiverPrivateKey * curve.g\n",
        "print(\"Receiver's private key : \",hex(receiverPrivateKey))\n",
        "print(\"Receiver's public key :\",compress_point(receiverPublicKey))\n",
        "print(\"\\n\")\n",
        "\n",
        "(enKeyReceiver,ciPublicKeyReceiver) = getEnKey(receiverPublicKey)\n",
        "print(\"Receiver's ciphertext public key : \",compress_point(ciPublicKeyReceiver))\n",
        "print(\"Receiver encryption key : \",compress_point(enKeyReceiver))\n"
      ]
    },
    {
      "cell_type": "code",
      "source": [
        "pip install tinyec"
      ],
      "metadata": {
        "colab": {
          "base_uri": "https://localhost:8080/"
        },
        "id": "mK945d2sz0qA",
        "outputId": "d637383d-236a-49b7-9d21-305d97cc2a48"
      },
      "execution_count": 2,
      "outputs": [
        {
          "output_type": "stream",
          "name": "stdout",
          "text": [
            "Collecting tinyec\n",
            "  Downloading tinyec-0.4.0.tar.gz (24 kB)\n",
            "  Preparing metadata (setup.py) ... \u001b[?25l\u001b[?25hdone\n",
            "Building wheels for collected packages: tinyec\n",
            "  Building wheel for tinyec (setup.py) ... \u001b[?25l\u001b[?25hdone\n",
            "  Created wheel for tinyec: filename=tinyec-0.4.0-py3-none-any.whl size=20877 sha256=aeda1961db986ef9e718cda82a9698cd1a0e4a04aeac92e402d600d6c84d7771\n",
            "  Stored in directory: /root/.cache/pip/wheels/db/86/a7/922d884ea8657b29b0231d6566159462328473186637fcc02e\n",
            "Successfully built tinyec\n",
            "Installing collected packages: tinyec\n",
            "Successfully installed tinyec-0.4.0\n"
          ]
        }
      ]
    },
    {
      "cell_type": "code",
      "source": [],
      "metadata": {
        "id": "u_c1zpVCz9nK"
      },
      "execution_count": null,
      "outputs": []
    }
  ]
}