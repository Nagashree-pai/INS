{
  "nbformat": 4,
  "nbformat_minor": 0,
  "metadata": {
    "colab": {
      "provenance": []
    },
    "kernelspec": {
      "name": "python3",
      "display_name": "Python 3"
    },
    "language_info": {
      "name": "python"
    }
  },
  "cells": [
    {
      "cell_type": "code",
      "execution_count": 2,
      "metadata": {
        "colab": {
          "base_uri": "https://localhost:8080/"
        },
        "id": "l_3HMwoAPWsS",
        "outputId": "df752aa1-0707-474f-a60a-7ffd8d898cfd"
      },
      "outputs": [
        {
          "output_type": "stream",
          "name": "stdout",
          "text": [
            "Enter a string : attack\n",
            "Key  1  =  0011000111101011000001111010011000\n",
            "Key  2  =  0001110001110101100000111001100000\n",
            "Key  3  =  1110011101010000001111010011100000\n",
            "Key  4  =  1100111010110000010100111010000000\n",
            "Key  5  =  1000011001101110100001110011101000\n",
            "Key  6  =  1100110101100011110100111010000000\n",
            "Key  7  =  0110011101100000111010111010000000\n",
            "Key  8  =  0001111101100000000001110100000000\n"
          ]
        }
      ],
      "source": [
        "import random\n",
        "\n",
        "s = input(\"Enter a string : \")\n",
        "result = ''.join(format(ord(i),'08b') for i in s)\n",
        "answer = \"\"\n",
        "\n",
        "for i in range(len(result)):\n",
        "    if(i%8!=0):\n",
        "      answer+=result[i]\n",
        "\n",
        "l = int(len(answer)/2)\n",
        "left = answer[:l]\n",
        "right = answer[l:]\n",
        "lt = [2,3,6,7,1,6,5,9]\n",
        "keys = []\n",
        "\n",
        "for i in range(0,8):\n",
        "  newKey = \"\"\n",
        "  newAnswer = \"\"\n",
        "\n",
        "  nl=int(left,2)\n",
        "  nl=bin(nl<<lt[i])\n",
        "  num=2+lt[i]\n",
        "\n",
        "  nr = int(right,2)\n",
        "  nr = bin(nr<<lt[i])\n",
        "  num=2+lt[i]\n",
        "\n",
        "  newKey = nr[num:]+nl[num:]\n",
        "  rm =[]\n",
        "\n",
        "  while(len(rm)!= 8):\n",
        "    r = random.randint(0,len(newKey)-1)\n",
        "\n",
        "    if(r not in rm):\n",
        "      rm.append(r)\n",
        "\n",
        "  for i in range(len(newKey)):\n",
        "    if(i not in rm):\n",
        "      newAnswer+=newKey[i]\n",
        "\n",
        "  keys.append(newAnswer)\n",
        "\n",
        "for i in range(0,len(keys)):\n",
        "    print(\"Key \",i+1,\" = \",keys[i])\n",
        "\n"
      ]
    },
    {
      "cell_type": "code",
      "source": [],
      "metadata": {
        "id": "-WW2pVnQRAS6"
      },
      "execution_count": null,
      "outputs": []
    }
  ]
}