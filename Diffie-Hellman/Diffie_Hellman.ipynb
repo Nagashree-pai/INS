{
  "nbformat": 4,
  "nbformat_minor": 0,
  "metadata": {
    "colab": {
      "provenance": []
    },
    "kernelspec": {
      "name": "python3",
      "display_name": "Python 3"
    },
    "language_info": {
      "name": "python"
    }
  },
  "cells": [
    {
      "cell_type": "code",
      "execution_count": 3,
      "metadata": {
        "colab": {
          "base_uri": "https://localhost:8080/"
        },
        "id": "bdn6ehyAwjF7",
        "outputId": "0d32d81f-278a-4f71-bf07-17346599f033"
      },
      "outputs": [
        {
          "output_type": "stream",
          "name": "stdout",
          "text": [
            "Enter a prime number : 23\n",
            "Enter a primitive root :5\n",
            "Enter the private key of A :6\n",
            "Enter the private key of B : 15\n",
            "Public key of A :  8.0\n",
            "Public key of B :  19.0\n",
            "Shared key for A :  2.0\n",
            "Shared key for B :  2.0\n"
          ]
        }
      ],
      "source": [
        "import math\n",
        "\n",
        "q = int(input(\"Enter a prime number : \"))\n",
        "a = int(input(\"Enter a primitive root :\"))\n",
        "Xa = int(input(\"Enter the private key of A :\"))\n",
        "Xb = int(input(\"Enter the private key of B : \"))\n",
        "\n",
        "Ya = math.pow(a, Xa) % q\n",
        "Yb = math.pow(a, Xb) % q\n",
        "\n",
        "print(\"Public key of A : \",Ya)\n",
        "print(\"Public key of B : \",Yb)\n",
        "\n",
        "Ka = math.pow(Yb,Xa)%q\n",
        "Kb = math.pow(Ya,Xb)%q\n",
        "\n",
        "print(\"Shared key for A : \",Ka)\n",
        "print(\"Shared key for B : \",Kb)"
      ]
    },
    {
      "cell_type": "code",
      "source": [],
      "metadata": {
        "id": "MmnCWZ_3wknO"
      },
      "execution_count": null,
      "outputs": []
    }
  ]
}