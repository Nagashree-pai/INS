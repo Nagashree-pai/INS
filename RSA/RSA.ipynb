{
  "nbformat": 4,
  "nbformat_minor": 0,
  "metadata": {
    "colab": {
      "provenance": []
    },
    "kernelspec": {
      "name": "python3",
      "display_name": "Python 3"
    },
    "language_info": {
      "name": "python"
    }
  },
  "cells": [
    {
      "cell_type": "code",
      "execution_count": 5,
      "metadata": {
        "colab": {
          "base_uri": "https://localhost:8080/"
        },
        "id": "QKcrkXOG7YzU",
        "outputId": "f8401f5c-1e05-4245-84f6-d2d3441e9df4"
      },
      "outputs": [
        {
          "output_type": "stream",
          "name": "stdout",
          "text": [
            "Enter the value of p:17\n",
            "Enter the value of q:11\n",
            "Enter a message:88\n",
            "Encrypted message:  44\n",
            "Decrypted message:  88\n"
          ]
        }
      ],
      "source": [
        "def gcd(a,b):\n",
        "      while b:\n",
        "            a,b=b,a%b\n",
        "      return a\n",
        "\n",
        "def RSA(p,q,msg):\n",
        "      n = p*q\n",
        "      phi = (p-1)*(q-1)\n",
        "\n",
        "      for i in range(2,phi):\n",
        "           if gcd(i,phi)==1:\n",
        "                 e = i\n",
        "                 break\n",
        "      j = 0\n",
        "      while True:\n",
        "        if (j*e%phi)==1:\n",
        "          d = j\n",
        "          break\n",
        "        j+=1\n",
        "      c = (msg**e)%n\n",
        "      print(\"Encrypted message: \",c)\n",
        "      d = (c**d)%n\n",
        "      print(\"Decrypted message: \",d)\n",
        "\n",
        "p = int(input(\"Enter the value of p:\"))\n",
        "q = int(input(\"Enter the value of q:\"))\n",
        "msg = int(input(\"Enter a message:\"))\n",
        "RSA(p,q,msg)\n"
      ]
    },
    {
      "cell_type": "code",
      "source": [],
      "metadata": {
        "id": "Lx1IvBAv7b6g"
      },
      "execution_count": null,
      "outputs": []
    }
  ]
}